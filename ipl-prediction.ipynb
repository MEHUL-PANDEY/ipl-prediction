{
 "cells": [
  {
   "cell_type": "code",
   "execution_count": null,
   "id": "0ad25565",
   "metadata": {},
   "outputs": [],
   "source": [
    "import pandas as pd\n",
    "import numpy as np\n",
    "import matplotlib.pyplot as mp\n",
    "from pylab import show\n",
    "import seaborn as sns\n",
    "import matplotlib.ticker as ticker\n",
    "import matplotlib.ticker as plticker\n",
    "from sklearn.model_selection import train_test_split\n",
    "from sklearn.ensemble import RandomForestClassifier\n",
    "from sklearn.ensemble import RandomForestRegressor\n",
    "from sklearn.model_selection import cross_val_score\n",
    "from sklearn.metrics import accuracy_score\n",
    "from sklearn.metrics import r2_score\n",
    "from sklearn.metrics import mean_squared_error\n",
    "import warnings\n",
    "warnings.filterwarnings('ignore')"
   ]
  },
  {
   "cell_type": "code",
   "execution_count": null,
   "id": "d29d181d",
   "metadata": {},
   "outputs": [],
   "source": [
    "# Loading Data\n",
    "matches = pd.read_csv('matches.csv')\n",
    "deliveries = pd.read_csv('deliveries.csv')"
   ]
  },
  {
   "cell_type": "code",
   "execution_count": null,
   "id": "38dea4e4",
   "metadata": {},
   "outputs": [],
   "source": [
    "matches = matches.replace(np.nan, '', regex=True)\n",
    "deliveries = deliveries.replace(np.nan, '', regex=True)"
   ]
  },
  {
   "cell_type": "code",
   "execution_count": null,
   "id": "31b5862b",
   "metadata": {},
   "outputs": [],
   "source": [
    "from sklearn.decomposition import PCA\n",
    "from sklearn.preprocessing import LabelEncoder\n",
    "\n",
    "total_and_balls = pd.DataFrame(deliveries)\n",
    "\n",
    "indexNames = total_and_balls[ total_and_balls['is_super_over'] == 1 ].index\n",
    "total_and_balls.drop(indexNames , inplace=True)\n",
    "\n",
    "labelencoder = LabelEncoder()\n",
    "\n",
    "total_and_balls['batsman'] = labelencoder.fit_transform(total_and_balls['batsman'])\n",
    "labelencoder.fit_transform(total_and_balls['batsman'])\n",
    "\n",
    "total_and_balls['bowler'] = labelencoder.fit_transform(total_and_balls['bowler'])\n",
    "labelencoder.fit_transform(total_and_balls['bowler'])\n",
    "\n",
    "total_and_balls['non_striker'] = labelencoder.fit_transform(total_and_balls['non_striker'])\n",
    "labelencoder.fit_transform(total_and_balls['non_striker'])\n",
    "\n",
    "total_and_balls = total_and_balls.drop(['is_super_over', 'wide_runs','bye_runs','legbye_runs','noball_runs','penalty_runs','batsman_runs','extra_runs','player_dismissed','dismissal_kind','fielder'], axis=1)\n",
    "\n",
    "for id in range(1,637):\n",
    "    df = total_and_balls.loc[total_and_balls['match_id'] == id]\n",
    "    total_score = df.loc[df.index[-1], \"score\"]\n",
    "    total_and_balls.loc[total_and_balls['match_id'] == id, 'final_score']= total_score\n",
    "\n",
    "pca = PCA().fit(total_and_balls)"
   ]
  },
  {
   "cell_type": "code",
   "execution_count": null,
   "id": "9dc9a089",
   "metadata": {},
   "outputs": [],
   "source": [
    "print(pca.components_)"
   ]
  },
  {
   "cell_type": "code",
   "execution_count": null,
   "id": "bd50a4fc",
   "metadata": {},
   "outputs": [],
   "source": [
    "eval_match = total_and_balls.loc[total_and_balls['match_id'] == 7]\n",
    "indexNames = total_and_balls[ total_and_balls['match_id'] == 7 ].index\n",
    "total_and_balls.drop(indexNames , inplace=True)"
   ]
  },
  {
   "cell_type": "code",
   "execution_count": null,
   "id": "7d010d59",
   "metadata": {},
   "outputs": [],
   "source": [
    "from sklearn.model_selection import train_test_split\n",
    "\n",
    "X = total_and_balls.values[:,:-1]\n",
    "y = total_and_balls.values[:,-1]\n",
    "\n",
    "X_train, X_test, y_train, y_test = train_test_split(X, y, test_size=0.2, random_state=1)"
   ]
  },
  {
   "cell_type": "code",
   "execution_count": null,
   "id": "7323c066",
   "metadata": {},
   "outputs": [],
   "source": [
    "from sklearn.linear_model import LinearRegression\n",
    "model = LinearRegression(n_jobs=-1)\n",
    "cross_val_acc = cross_val_score(model, X_train,y_train, cv=10)\n",
    "\n",
    "pred = model.fit(X_train,y_train).predict(X_train)\n",
    "train_acc = r2_score(y_train, pred)\n",
    "train_acc_mean = mean_squared_error(y_train, pred)\n",
    "print(f'R square score of the model on train data: {train_acc}')\n",
    "print(f'Mean squared error of the model on train data: {train_acc_mean}')\n",
    "print()\n",
    "print(f'Cross Validation Accuracy of the model: {cross_val_acc.mean()}')\n",
    "print()"
   ]
  },
  {
   "cell_type": "code",
   "execution_count": null,
   "id": "16122ad3",
   "metadata": {},
   "outputs": [],
   "source": [
    "lin = model.fit(X_train,y_train)\n",
    "pred = lin.predict(X_test)\n",
    "test_acc = r2_score(y_test, pred)\n",
    "test_acc_mean = mean_squared_error(y_test, pred)\n",
    "print(f'R square score of the model on test data: {test_acc}')\n",
    "print(f'Mean squared error of the model on test data: {test_acc_mean}')"
   ]
  },
  {
   "cell_type": "code",
   "execution_count": null,
   "id": "02ce3465",
   "metadata": {},
   "outputs": [],
   "source": [
    "from sklearn.neighbors import KNeighborsRegressor\n",
    "\n",
    "# Evaluate cross validation score for Neighbors in range 1-20\n",
    "accuracies = []\n",
    "neighbors = []\n",
    "train_accuracies = []\n",
    "\n",
    "for index in range(1,21):\n",
    "        neighbors.append(index)\n",
    "\n",
    "for neighbor in neighbors:\n",
    "    model = KNeighborsRegressor(n_neighbors=neighbor, weights='distance', p=2, n_jobs=-1)\n",
    "    acc = cross_val_score(model, X_train,y_train, cv=10)\n",
    "    pred = model.fit(X_train,y_train).predict(X_train)\n",
    "    train_acc = r2_score(y_train, pred)\n",
    "    accuracies.append(acc.mean())\n",
    "    train_accuracies.append(train_acc)"
   ]
  },
  {
   "cell_type": "code",
   "execution_count": null,
   "id": "b00bcc9c",
   "metadata": {},
   "outputs": [],
   "source": [
    "tck = []\n",
    "for i in range(1,21):\n",
    "    tck.append(i)\n",
    "fig= mp.figure(figsize=(8,4))\n",
    "mp.grid()\n",
    "mp.plot(neighbors,accuracies, c='blue', label='Cross Validation Accuracy')\n",
    "mp.plot(neighbors,train_accuracies, c='red', label='Training R2 Score')\n",
    "mp.scatter(neighbors,accuracies)\n",
    "mp.title('K Neighbours Regressors')\n",
    "mp.xlabel(\"No of Neighbors\")\n",
    "mp.ylabel(\"Accuracy\")\n",
    "mp.xticks(tck)\n",
    "mp.legend()\n",
    "show()\n",
    "max_acc = max(accuracies)\n",
    "max_n = neighbors[accuracies.index(max_acc)]\n",
    "print(f'Maximum Cross Validation accuracy - Neighbors: {max_n}, Accuracy: {max_acc}')"
   ]
  },
  {
   "cell_type": "code",
   "execution_count": null,
   "id": "b639641e",
   "metadata": {},
   "outputs": [],
   "source": [
    "model = KNeighborsRegressor(n_neighbors=2, weights='distance', p=2, n_jobs=-1)\n",
    "knr = model.fit(X_train,y_train)\n",
    "pred = knr.predict(X_test)\n",
    "test_acc = r2_score(y_test, pred)\n",
    "test_acc_mean = mean_squared_error(y_test, pred)\n",
    "print(f'R square score of the model on test data: {test_acc}')\n",
    "print(f'Mean squared error of the model on test data: {test_acc_mean}')"
   ]
  },
  {
   "cell_type": "code",
   "execution_count": null,
   "id": "68d7d7fe",
   "metadata": {},
   "outputs": [],
   "source": [
    "from sklearn.ensemble import RandomForestRegressor\n",
    "\n",
    "estimators = [10,50,100,1000]\n",
    "depths = [10,100]\n",
    "accuracies = []\n",
    "outputs = []\n",
    "train_accuracies = []\n",
    "\n",
    "for estimator in estimators:\n",
    "    for depth in depths:\n",
    "        model = RandomForestRegressor(n_estimators = estimator, max_depth=depth, random_state=0, n_jobs=-1)\n",
    "        acc = cross_val_score(model, X_train,y_train, cv=10)\n",
    "        accuracies.append(acc.mean())\n",
    "        outputs.append((estimator,depth))\n",
    "        pred = model.fit(X_train,y_train).predict(X_train)\n",
    "        train_acc = r2_score(y_train, pred)\n",
    "        train_accuracies.append(train_accuracies)\n",
    "        print(f'Estimators: {estimator}, Max Dept: {depth}, Training Accuracy: {train_acc}, Cross Validation Accuracy: {acc.mean()}')\n",
    "        \n",
    "max_acc = max(accuracies)\n",
    "index = accuracies.index(max_acc)\n",
    "est = outputs[index][0]\n",
    "dep = outputs[index][1]\n",
    "print(f'Maximum Cross Validation Accuracy: {max_acc}, No of estimators: {est}, Max Depth: {dep}')"
   ]
  },
  {
   "cell_type": "code",
   "execution_count": null,
   "id": "14837e4f",
   "metadata": {},
   "outputs": [],
   "source": [
    "from mpl_toolkits.mplot3d import Axes3D\n",
    "op_array = []\n",
    "ests = []\n",
    "depths = []\n",
    "for op in outputs:\n",
    "    l = list(op) \n",
    "    ests.append(l[0])\n",
    "    depths.append(l[1])\n",
    "fig = mp.figure(figsize=(10,5))\n",
    "ax = mp.axes(projection=\"3d\")\n",
    "ax.plot3D(ests, depths, accuracies)\n",
    "ax.scatter3D(ests, depths, accuracies)\n",
    "ax.set_xlabel('No of Estimators')\n",
    "ax.set_ylabel('Max Depth')\n",
    "ax.set_zlabel('Accuracy')\n",
    "ax.set_title('Random Forest Regressors')\n",
    "mp.show()"
   ]
  },
  {
   "cell_type": "code",
   "execution_count": null,
   "id": "42473d24",
   "metadata": {},
   "outputs": [],
   "source": [
    "model = RandomForestRegressor(n_estimators =1000, max_depth=100, random_state=0)\n",
    "rfr = model.fit(X_train,y_train)\n",
    "pred = rfr.predict(X_test)\n",
    "test_acc = r2_score(y_test, pred)\n",
    "test_acc_mean = mean_squared_error(y_test, pred)\n",
    "print(f'R square score of the model on test data: {test_acc}')\n",
    "print(f'Mean squared error of the model on test data: {test_acc_mean}')"
   ]
  },
  {
   "cell_type": "code",
   "execution_count": null,
   "id": "494bf133",
   "metadata": {},
   "outputs": [],
   "source": [
    "model.feature_importances_"
   ]
  },
  {
   "cell_type": "code",
   "execution_count": null,
   "id": "f60ce8ac",
   "metadata": {},
   "outputs": [],
   "source": [
    "from sklearn.preprocessing import MinMaxScaler\n",
    "scaler = MinMaxScaler() \n",
    "total_and_balls_scaled = scaler.fit_transform(total_and_balls)\n",
    "\n",
    "X_nn = total_and_balls_scaled[:,:-1]\n",
    "y_nn = total_and_balls_scaled[:,-1]\n",
    "\n",
    "X_train_nn, X_test_nn, y_train_nn, y_test_nn = train_test_split(X_nn, y_nn, test_size=0.2, random_state=1)"
   ]
  },
  {
   "cell_type": "code",
   "execution_count": null,
   "id": "7fd3d571",
   "metadata": {},
   "outputs": [],
   "source": [
    "import math\n",
    "from keras.models import Sequential\n",
    "from keras.layers import Dense\n",
    "from keras.layers import LSTM\n",
    "from keras.layers import Flatten\n",
    "from keras.layers import Dropout\n",
    "from keras.layers import SimpleRNN\n",
    "\n",
    "X_trains = X_train_nn.reshape((X_train_nn.shape[0], 1, X_train_nn.shape[1]))\n",
    "X_tests = X_test_nn.reshape((X_test_nn.shape[0], 1, X_test_nn.shape[1]))\n",
    "\n",
    "regressor = Sequential()\n",
    "regressor.add(LSTM(50, input_shape=(X_trains.shape[1], X_trains.shape[2])))\n",
    "regressor.add(Dense(50, activation='relu'))\n",
    "regressor.add(Dense(50, activation='relu'))\n",
    "regressor.add(Dense(1))\n",
    "regressor.compile(loss='mean_squared_error', optimizer='adam')\n",
    "history1 = regressor.fit(X_trains, y_train_nn, epochs=50, batch_size=32, verbose=1)\n"
   ]
  },
  {
   "cell_type": "code",
   "execution_count": null,
   "id": "b51ae1a5",
   "metadata": {},
   "outputs": [],
   "source": [
    "regressor2 = Sequential()\n",
    "regressor2.add(LSTM(100, input_shape=(X_trains.shape[1], X_trains.shape[2])))\n",
    "regressor2.add(Dense(50, activation='relu'))\n",
    "regressor2.add(Dense(50, activation='relu'))\n",
    "regressor2.add(Dense(1))\n",
    "regressor2.compile(loss='mean_squared_error', optimizer='adam')\n",
    "history2 = regressor2.fit(X_trains, y_train_nn, epochs=50, batch_size=32, verbose=1)\n"
   ]
  },
  {
   "cell_type": "code",
   "execution_count": null,
   "id": "b5c7fb8f",
   "metadata": {},
   "outputs": [],
   "source": [
    "regressor3 = Sequential()\n",
    "regressor3.add(LSTM(50, input_shape=(X_trains.shape[1], X_trains.shape[2])))\n",
    "regressor3.add(Dense(1))\n",
    "regressor3.compile(loss='mean_squared_error', optimizer='adam')\n",
    "history3 = regressor3.fit(X_trains, y_train_nn, epochs=50, batch_size=32, verbose=1)\n"
   ]
  },
  {
   "cell_type": "code",
   "execution_count": null,
   "id": "4d314329",
   "metadata": {},
   "outputs": [],
   "source": [
    "regressor4 = Sequential()\n",
    "regressor4.add(LSTM(100, input_shape=(X_trains.shape[1], X_trains.shape[2])))\n",
    "regressor4.add(Dense(1))\n",
    "regressor4.compile(loss='mean_squared_error', optimizer='adam')\n",
    "history4 = regressor4.fit(X_trains, y_train_nn, epochs=50, batch_size=32, verbose=1)\n"
   ]
  },
  {
   "cell_type": "code",
   "execution_count": null,
   "id": "3b53f3cc",
   "metadata": {},
   "outputs": [],
   "source": [
    "regressor5 = Sequential()\n",
    "regressor5.add(LSTM(50, input_shape=(X_trains.shape[1], X_trains.shape[2]), return_sequences=True))\n",
    "regressor5.add(LSTM(50))\n",
    "regressor5.add(Dense(1))\n",
    "regressor5.compile(loss='mean_squared_error', optimizer='adam')\n",
    "history5 = regressor5.fit(X_trains, y_train_nn, epochs=50, batch_size=32, verbose=1)\n"
   ]
  },
  {
   "cell_type": "code",
   "execution_count": null,
   "id": "507166fb",
   "metadata": {},
   "outputs": [],
   "source": [
    "regressor6 = Sequential()\n",
    "regressor6.add(LSTM(100, input_shape=(X_trains.shape[1], X_trains.shape[2]), return_sequences=True))\n",
    "regressor6.add(LSTM(100))\n",
    "regressor6.add(Dense(1))\n",
    "regressor6.compile(loss='mean_squared_error', optimizer='adam')\n",
    "history6 = regressor6.fit(X_trains, y_train_nn, epochs=50, batch_size=32, verbose=1)\n"
   ]
  },
  {
   "cell_type": "code",
   "execution_count": null,
   "id": "3d39c1c8",
   "metadata": {},
   "outputs": [],
   "source": [
    "regressor7 = Sequential()\n",
    "regressor7.add(LSTM(100, input_shape=(X_trains.shape[1], X_trains.shape[2])))\n",
    "regressor7.add(Dense(100, activation='relu'))\n",
    "regressor7.add(Dense(100, activation='relu'))\n",
    "regressor7.add(Dense(100, activation='relu'))\n",
    "regressor7.add(Dense(1))\n",
    "regressor7.compile(loss='mean_squared_error', optimizer='adam')\n",
    "history7 = regressor7.fit(X_trains, y_train_nn, epochs=50, batch_size=32, verbose=1)\n"
   ]
  },
  {
   "cell_type": "code",
   "execution_count": null,
   "id": "ad7f7152",
   "metadata": {},
   "outputs": [],
   "source": [
    "regressor8 = Sequential()\n",
    "regressor8.add(LSTM(200, input_shape=(X_trains.shape[1], X_trains.shape[2])))\n",
    "regressor8.add(Dense(100, activation='relu'))\n",
    "regressor8.add(Dense(100, activation='relu'))\n",
    "regressor8.add(Dense(100, activation='relu'))\n",
    "regressor8.add(Dense(1))\n",
    "regressor8.compile(loss='mean_squared_error', optimizer='adam')\n",
    "history8 = regressor8.fit(X_trains, y_train_nn, epochs=50, batch_size=32, verbose=1)\n"
   ]
  },
  {
   "cell_type": "code",
   "execution_count": null,
   "id": "96626375",
   "metadata": {},
   "outputs": [],
   "source": [
    "regressor9 = Sequential()\n",
    "regressor9.add(LSTM(200, input_shape=(X_trains.shape[1], X_trains.shape[2])))\n",
    "regressor9.add(Dense(200, activation='relu'))\n",
    "regressor9.add(Dense(200, activation='relu'))\n",
    "regressor9.add(Dense(200, activation='relu'))\n",
    "regressor9.add(Dense(1))\n",
    "regressor9.compile(loss='mean_squared_error', optimizer='adam')\n",
    "history9 = regressor9.fit(X_trains, y_train_nn, epochs=50, batch_size=32, verbose=1)\n"
   ]
  },
  {
   "cell_type": "code",
   "execution_count": null,
   "id": "35259d2c",
   "metadata": {},
   "outputs": [],
   "source": [
    "regressor10 = Sequential()\n",
    "regressor10.add(LSTM(300, input_shape=(X_trains.shape[1], X_trains.shape[2])))\n",
    "regressor10.add(Dense(200, activation='relu'))\n",
    "regressor10.add(Dense(200, activation='relu'))\n",
    "regressor10.add(Dense(200, activation='relu'))\n",
    "regressor10.add(Dense(1))\n",
    "regressor10.compile(loss='mean_squared_error', optimizer='adam')\n",
    "history10 = regressor10.fit(X_trains, y_train_nn, epochs=50, batch_size=32, verbose=1)\n"
   ]
  },
  {
   "cell_type": "code",
   "execution_count": null,
   "id": "b8b6859b",
   "metadata": {},
   "outputs": [],
   "source": [
    "print(history1.history.keys())\n",
    "\n",
    "fig= mp.figure(figsize=(12,6))\n",
    "mp.grid()\n",
    "mp.plot(history1.history['loss'], label='One L50Two D50', c='#1f77b4')\n",
    "mp.plot(history2.history['loss'], label='One L100 Two D50', c='#ff7f0e')\n",
    "mp.plot(history3.history['loss'], label='One L50', c='#2ca02c')\n",
    "mp.plot(history4.history['loss'], label='One L100', c='#d62728')\n",
    "mp.plot(history5.history['loss'], label='Two L50', c='#9467bd')\n",
    "mp.plot(history6.history['loss'], label='Two L100', c='#8c564b')\n",
    "mp.plot(history7.history['loss'], label='One L100 Three D100', c='#e377c2')\n",
    "mp.plot(history8.history['loss'], label='One L200 Three D100', c='#7f7f7f')\n",
    "mp.plot(history9.history['loss'], label='One L200 Three D200', c='#bcbd22')\n",
    "mp.plot(history10.history['loss'], label='One L300 Three D200', c='#17becf')\n",
    "mp.title('Training accuracy')\n",
    "mp.ylabel('Mean Squared Error Loss')\n",
    "mp.xlabel('No of Epochs')\n",
    "mp.legend()\n",
    "mp.show()"
   ]
  },
  {
   "cell_type": "code",
   "execution_count": null,
   "id": "96bcd4f9",
   "metadata": {},
   "outputs": [],
   "source": [
    "pred = regressor8.predict(X_tests)\n",
    "test_acc = r2_score(y_test_nn, pred)\n",
    "test_acc_mean = mean_squared_error(y_test_nn, pred)\n",
    "print(f'R square score of the model on test data: {test_acc}')\n",
    "print(f'Mean squared error of the model on test data: {test_acc_mean}')\n"
   ]
  },
  {
   "cell_type": "code",
   "execution_count": null,
   "id": "5019db09",
   "metadata": {},
   "outputs": [],
   "source": [
    "fig= mp.figure(figsize=(12,6))\n",
    "\n",
    "eval_match = eval_match.loc[eval_match['inning'] == 1]\n",
    "X_eval = eval_match.values[:,:-1]\n",
    "y_eval = eval_match.values[:,-1]\n",
    "\n",
    "balls = []\n",
    "for index in range(1,len(X_eval)+1):\n",
    "    balls.append(index)\n",
    "    \n",
    "total_deliveries = len(X_eval)\n",
    "runrate_proj = []\n",
    "for index in range(len(X_eval)):\n",
    "    runs = X_eval[index][-1]\n",
    "    runrate = runs/(index+1)\n",
    "    runrate_proj.append(runrate*total_deliveries)\n",
    "    \n",
    "pred_lin = lin.predict(X_eval)\n",
    "\n",
    "pred_knr = knr.predict(X_eval)\n",
    "\n",
    "pred_rfr = rfr.predict(X_eval)\n",
    "\n",
    "X_evals_scaled = scaler.fit_transform(X_eval)\n",
    "X_evals = X_evals_scaled.reshape((X_evals_scaled.shape[0], 1, X_evals_scaled.shape[1]))\n",
    "pred_rnn_norm = regressor8.predict(X_evals)\n",
    "pred_rnn = []\n",
    "#scale back predicted value to normal scale\n",
    "min_y = min(y_train)\n",
    "max_y = max(y_train)\n",
    "diff = max_y - min_y\n",
    "for i in  range(len(pred_rnn_norm)):\n",
    "    val = (pred_rnn_norm * diff) + min_y\n",
    "    pred_rnn.append(val)\n",
    "\n",
    "\n",
    "    \n",
    "mp.grid()\n",
    "mp.xlabel('Deliveries Bowled')\n",
    "mp.ylabel('Predicted Final Innings Total')\n",
    "mp.title('Score Projection - Mumbai Indians vs Kolkata Knight Riders 2017 Season')\n",
    "mp.plot(balls,pred_lin,c='yellow', label='Linear Regression')\n",
    "mp.plot(balls,pred_knr,c='red', label='K Nearest Neighbor Regressor')\n",
    "mp.plot(balls,pred_rfr,c='blue', label='Random Forest Regressor')\n",
    "mp.plot(balls,pred_rnn[0],c='green', label='LSTM - RNN')\n",
    "mp.plot(balls,runrate_proj,c='orange', label='Run Rate Projection')\n",
    "mp.plot(balls,y_eval,c='violet', label='Actual Final Score')\n",
    "mp.xticks(np.arange(0, max(balls)+1, 5))\n",
    "mp.legend()\n",
    "show()\n"
   ]
  }
 ],
 "metadata": {
  "kernelspec": {
   "display_name": "Python 3 (ipykernel)",
   "language": "python",
   "name": "python3"
  },
  "language_info": {
   "codemirror_mode": {
    "name": "ipython",
    "version": 3
   },
   "file_extension": ".py",
   "mimetype": "text/x-python",
   "name": "python",
   "nbconvert_exporter": "python",
   "pygments_lexer": "ipython3",
   "version": "3.10.9"
  }
 },
 "nbformat": 4,
 "nbformat_minor": 5
}
